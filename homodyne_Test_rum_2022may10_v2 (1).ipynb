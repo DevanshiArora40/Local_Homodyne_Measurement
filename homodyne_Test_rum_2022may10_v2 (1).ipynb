{
 "cells": [
  {
   "cell_type": "code",
   "execution_count": 1,
   "metadata": {},
   "outputs": [],
   "source": [
    "import numpy as np\n",
    "import pandas as pd\n",
    "import statistics\n",
    "import matplotlib.pyplot as plt"
   ]
  },
  {
   "cell_type": "code",
   "execution_count": 2,
   "metadata": {},
   "outputs": [
    {
     "name": "stdout",
     "output_type": "stream",
     "text": [
      "D:\\Download\n"
     ]
    }
   ],
   "source": [
    "%cd D:Download/"
   ]
  },
  {
   "cell_type": "code",
   "execution_count": 5,
   "metadata": {},
   "outputs": [],
   "source": [
    "import numpy as np\n",
    "from math import *\n",
    "M1=[]\n",
    "\n",
    "Inp1=[1.037,\n",
    "5.032333333,\n",
    "10.02,\n",
    "14.99333333,\n",
    "20.78,\n",
    "25.22333333,\n",
    "30.39,\n",
    "34.76666667,\n",
    "39.81666667,\n",
    "43.92333333,\n",
    "47.57]\n",
    "\n",
    "M2=[]\n",
    "\n",
    "Inp2=[1.012333333,\n",
    "4.864333333,\n",
    "9.645,\n",
    "14.03333333,\n",
    "18.80666667,\n",
    "22.81333333,\n",
    "27.58333333,\n",
    "31.79666667,\n",
    "37.15666667,\n",
    "42.86,\n",
    "46.03666667]\n",
    "\n",
    "D0=[]\n",
    "\n",
    "InpD0=[2.977666667,\n",
    "14.4,\n",
    "28.70333333,\n",
    "41.82666667,\n",
    "53.02666667,\n",
    "59.95333333,\n",
    "73.78666667,\n",
    "87.59333333,\n",
    "108.3333333,\n",
    "127.7,\n",
    "136.3]\n",
    "\n",
    "InpD0=np.array(InpD0)/sqrt(2)\n",
    "\n"
   ]
  },
  {
   "cell_type": "code",
   "execution_count": 6,
   "metadata": {},
   "outputs": [],
   "source": [
    "import pandas as pd\n",
    "def c(inp1,mplusmean):\n",
    "  temp1= (inp1*10**-6)/10**6\n",
    "  energy= (1.28*(10**-19))\n",
    "  temp2= temp1/energy\n",
    "  convf1= temp2/mplusmean\n",
    "  return(convf1)\n",
    "def fhom(n0,n1,n2,n3):\n",
    "  temp = ((n3)**4)/(6*(n0+1)*(n0+2))\n",
    "  return(temp)\n",
    "\n",
    "def dhom(n0,n1,n2,n3): #sample mean\n",
    "  temp1= fhom(n0,n1,n2,n3)/(n0+n2+n1+1)\n",
    "  return(temp1)\n",
    "\n",
    "def xphi(n0,n1,n2,n3): \n",
    "  temp3= (n3)/((2*(n1+n2+n0+1))**0.5)\n",
    "  return(temp3)"
   ]
  },
  {
   "cell_type": "code",
   "execution_count": 7,
   "metadata": {},
   "outputs": [],
   "source": [
    "temp4_base=np.load('0uw_weited.npy')   "
   ]
  },
  {
   "cell_type": "code",
   "execution_count": 8,
   "metadata": {},
   "outputs": [],
   "source": [
    "file = [5,10,15,20,25,30,35,40,45,50]"
   ]
  },
  {
   "cell_type": "code",
   "execution_count": 49,
   "metadata": {},
   "outputs": [
    {
     "name": "stdout",
     "output_type": "stream",
     "text": [
      "0\n",
      "1\n",
      "2\n",
      "3\n",
      "4\n",
      "5\n",
      "6\n",
      "7\n",
      "8\n",
      "9\n"
     ]
    }
   ],
   "source": [
    "D_list=[]\n",
    "X_list=[]\n",
    "X2_list=[]\n",
    "X22_list=[]\n",
    "\n",
    "M1_list=[]\n",
    "M2_list=[]\n",
    "M3_list=[]\n",
    "M4_list=[]\n",
    "\n",
    "C1_list=[]\n",
    "C2_list=[]\n",
    "C0_list=[]\n",
    "C4_list=[]\n",
    "\n",
    "\n",
    "for i in range(len(file)):\n",
    "    temp1=np.load(str(file[i])+'uw+.npy')    \n",
    "    temp2=np.load(str(file[i])+'uw-.npy')    \n",
    "    temp3=np.load(str(file[i])+'uwd.npy')    \n",
    "    temp4=np.load(str(file[i])+'uw_weited.npy')    \n",
    "    \n",
    "    c1_mean=sum(temp1)/len(temp1) #mean of M+\n",
    "    c2_mean=sum(temp2)/len(temp2) #mean of M-\n",
    "    c0_mean=sum(temp3)/len(temp3) #mean of D0\n",
    "\n",
    "    c1_temp=c(Inp1[i],c1_mean) #conversion coefficient for M+\n",
    "    c2_temp=c(Inp2[i],c2_mean) #conversion coefficient for M-\n",
    "    c0_temp=c(InpD0[i],c0_mean) #conversion coefficient for D0\n",
    "\n",
    "    C1_list.append(c1_temp)\n",
    "    C2_list.append(c2_temp)\n",
    "    C0_list.append(c0_temp)\n",
    "\n",
    "    \n",
    "    temp10= np.array(temp1)*c1_temp #converte M+ in photon number unite\n",
    "    temp20= np.array(temp2)*c2_temp #converte M- in photon number unite\n",
    "    temp30= np.array(temp3)*c0_temp #converte D0 in photon number unite\n",
    "    \n",
    "    mean1=sum(temp10)/len(temp10) #mean photon number of M+\n",
    "    mean2=sum(temp20)/len(temp20) #mean photon number of M-\n",
    "    mean3=sum(temp30)/len(temp30) #mean photon number of D0\n",
    "    \n",
    "    M1_list.append(mean1)\n",
    "    M2_list.append(mean2)\n",
    "    M3_list.append(mean3)\n",
    "\n",
    "    \n",
    "    c_rf=sqrt((mean1+mean2)/(np.var(temp4)-np.var(temp4_base))) #conversion coefficient for RF\n",
    "    temp40=temp4*c_rf\n",
    "    \n",
    "    C4_list.append(c_rf)\n",
    "\n",
    "    \n",
    "    mean4=sum(temp40)/len(temp40) #mean photon number of RF\n",
    "\n",
    "    M4_list.append(mean4)\n",
    "\n",
    "    \n",
    "    D=0\n",
    "    X=0\n",
    "    X2=0\n",
    "    X22=0\n",
    "    \n",
    "    for k in range(len(temp10)):\n",
    "        D+=dhom(temp30[k],temp10[k],temp20[k],temp40[k])/len(temp10)\n",
    "        X+=xphi(temp30[k],temp10[k],temp20[k],temp40[k])/len(temp10)\n",
    "        X2+=xphi(temp30[k],temp10[k],temp20[k],temp40[k])**2/len(temp10)\n",
    "        X22+=abs(0.25-xphi(temp30[k],temp10[k],temp20[k],temp40[k])**2)/len(temp10)\n",
    "        \n",
    "    D_list.append(D)\n",
    "    X_list.append(X)\n",
    "    X2_list.append(X2)\n",
    "    X22_list.append(X22)\n",
    "    print(i)"
   ]
  },
  {
   "cell_type": "code",
   "execution_count": 59,
   "metadata": {},
   "outputs": [
    {
     "data": {
      "text/plain": [
       "[9.861201333400325e-07,\n",
       " 5.074320508302758e-08,\n",
       " 1.5075650729177405e-08,\n",
       " 7.50035317094262e-09,\n",
       " 4.51509714399607e-09,\n",
       " 3.199384142506116e-09,\n",
       " 2.272613673122045e-09,\n",
       " 1.6017681871224024e-09,\n",
       " 1.1136960296327116e-09,\n",
       " 8.566360653444786e-10]"
      ]
     },
     "execution_count": 59,
     "metadata": {},
     "output_type": "execute_result"
    }
   ],
   "source": [
    "D_list"
   ]
  },
  {
   "cell_type": "code",
   "execution_count": 58,
   "metadata": {},
   "outputs": [
    {
     "data": {
      "text/plain": [
       "[0.00016482542201401798,\n",
       " -5.3569215184205695e-05,\n",
       " -3.4387261810982183e-05,\n",
       " -3.769855732495665e-05,\n",
       " -1.7894926025361364e-05,\n",
       " 1.051231679139658e-05,\n",
       " 3.2286083462404992e-06,\n",
       " -1.2108234797588073e-06,\n",
       " 7.826780780260598e-06,\n",
       " 8.219628062736117e-06]"
      ]
     },
     "execution_count": 58,
     "metadata": {},
     "output_type": "execute_result"
    }
   ],
   "source": [
    "X_list"
   ]
  },
  {
   "cell_type": "code",
   "execution_count": 60,
   "metadata": {},
   "outputs": [
    {
     "data": {
      "text/plain": [
       "[1.9625982967688362,\n",
       " 0.9985482490728038,\n",
       " 0.7767448464811105,\n",
       " 0.6596065449217811,\n",
       " 0.5648442160078704,\n",
       " 0.49676197400171845,\n",
       " 0.469191469470066,\n",
       " 0.4330742697404348,\n",
       " 0.4085861861868959,\n",
       " 0.391430019323836]"
      ]
     },
     "execution_count": 60,
     "metadata": {},
     "output_type": "execute_result"
    }
   ],
   "source": [
    "X2_list"
   ]
  },
  {
   "cell_type": "code",
   "execution_count": 53,
   "metadata": {},
   "outputs": [
    {
     "data": {
      "text/plain": [
       "[48.94136316077957,\n",
       " 0.8943662610222561,\n",
       " 0.7914012547643233,\n",
       " 8.4044554149632,\n",
       " 1.7009097050291138,\n",
       " 1.8727956346908285,\n",
       " 176.38795977049517,\n",
       " 1.9700127236670257,\n",
       " 8.693606023376498,\n",
       " 93.18222227024002]"
      ]
     },
     "execution_count": 53,
     "metadata": {},
     "output_type": "execute_result"
    }
   ],
   "source": [
    "X22_list"
   ]
  },
  {
   "cell_type": "code",
   "execution_count": 62,
   "metadata": {},
   "outputs": [
    {
     "data": {
      "text/plain": [
       "[<matplotlib.lines.Line2D at 0x1ac458d9748>]"
      ]
     },
     "execution_count": 62,
     "metadata": {},
     "output_type": "execute_result"
    },
    {
     "data": {
      "image/png": "[encoded data removed]",
      "text/plain": [
       "<Figure size 432x288 with 1 Axes>"
      ]
     },
     "metadata": {
      "needs_background": "light"
     },
     "output_type": "display_data"
    }
   ],
   "source": [
    "plt.plot(file,D_list,color=\"blue\", label='d_hom')\n",
    "plt.plot(file,X2_list,color=\"red\", label='x_phi')"
   ]
  },
  {
   "cell_type": "code",
   "execution_count": 63,
   "metadata": {},
   "outputs": [
    {
     "data": {
      "text/plain": [
       "[<matplotlib.lines.Line2D at 0x1ac4697c710>]"
      ]
     },
     "execution_count": 63,
     "metadata": {},
     "output_type": "execute_result"
    },
    {
     "data": {
      "image/png": "[encoded data removed]",
      "text/plain": [
       "<Figure size 432x288 with 1 Axes>"
      ]
     },
     "metadata": {
      "needs_background": "light"
     },
     "output_type": "display_data"
    }
   ],
   "source": [
    "plt.plot(file,D_list,color=\"blue\", label='d_hom')"
   ]
  },
  {
   "cell_type": "code",
   "execution_count": 42,
   "metadata": {},
   "outputs": [
    {
     "data": {
      "text/plain": [
       "[<matplotlib.lines.Line2D at 0x1ac4574f4a8>]"
      ]
     },
     "execution_count": 42,
     "metadata": {},
     "output_type": "execute_result"
    },
    {
     "data": {
      "image/png": "[encoded data removed]",
      "text/plain": [
       "<Figure size 432x288 with 1 Axes>"
      ]
     },
     "metadata": {
      "needs_background": "light"
     },
     "output_type": "display_data"
    }
   ],
   "source": [
    "plt.plot(file,C1_list,color=\"blue\", label='C1')\n",
    "plt.plot(file,C2_list,color=\"red\", label='C2')\n",
    "plt.plot(file,C0_list,color=\"green\", label='C0')"
   ]
  },
  {
   "cell_type": "code",
   "execution_count": 32,
   "metadata": {},
   "outputs": [
    {
     "data": {
      "text/plain": [
       "[<matplotlib.lines.Line2D at 0x1ac45579fd0>]"
      ]
     },
     "execution_count": 32,
     "metadata": {},
     "output_type": "execute_result"
    },
    {
     "data": {
      "image/png": "[encoded data removed]",
      "text/plain": [
       "<Figure size 432x288 with 1 Axes>"
      ]
     },
     "metadata": {
      "needs_background": "light"
     },
     "output_type": "display_data"
    }
   ],
   "source": [
    "plt.plot(file,M1_list,color=\"blue\", label='C1')\n",
    "plt.plot(file,M2_list,color=\"red\", label='C2')\n",
    "plt.plot(file,M3_list,color=\"green\", label='C0')"
   ]
  },
  {
   "cell_type": "code",
   "execution_count": 33,
   "metadata": {},
   "outputs": [
    {
     "data": {
      "text/plain": [
       "[8101562.50000015,\n",
       " 39315104.164062224,\n",
       " 78281249.99999946,\n",
       " 117135416.64062263,\n",
       " 162343750.000004,\n",
       " 197057291.6406224,\n",
       " 237421874.99997118,\n",
       " 271614583.3593691,\n",
       " 311067708.35938674,\n",
       " 343151041.640617]"
      ]
     },
     "execution_count": 33,
     "metadata": {},
     "output_type": "execute_result"
    }
   ],
   "source": [
    "M1_list"
   ]
  },
  {
   "cell_type": "code",
   "execution_count": 61,
   "metadata": {},
   "outputs": [
    {
     "data": {
      "text/plain": [
       "[<matplotlib.lines.Line2D at 0x1ac4590e3c8>]"
      ]
     },
     "execution_count": 61,
     "metadata": {},
     "output_type": "execute_result"
    },
    {
     "data": {
      "image/png": "[encoded data removed]",
      "text/plain": [
       "<Figure size 432x288 with 1 Axes>"
      ]
     },
     "metadata": {
      "needs_background": "light"
     },
     "output_type": "display_data"
    }
   ],
   "source": [
    "plt.plot(file,M4_list,color=\"blue\", label='C4')"
   ]
  },
  {
   "cell_type": "code",
   "execution_count": 38,
   "metadata": {},
   "outputs": [
    {
     "data": {
      "text/plain": [
       "[<matplotlib.lines.Line2D at 0x1ac455f9940>]"
      ]
     },
     "execution_count": 38,
     "metadata": {},
     "output_type": "execute_result"
    },
    {
     "data": {
      "image/png": "[encoded data removed]",
      "text/plain": [
       "<Figure size 432x288 with 1 Axes>"
      ]
     },
     "metadata": {
      "needs_background": "light"
     },
     "output_type": "display_data"
    }
   ],
   "source": [
    "plt.plot(file,C4_list,color=\"blue\", label='C4')"
   ]
  },
  {
   "cell_type": "code",
   "execution_count": 57,
   "metadata": {},
   "outputs": [
    {
     "name": "stdout",
     "output_type": "stream",
     "text": [
      "0\n",
      "1\n",
      "2\n",
      "3\n",
      "4\n",
      "5\n",
      "6\n",
      "7\n",
      "8\n",
      "9\n"
     ]
    }
   ],
   "source": [
    "D_list=[]\n",
    "X_list=[]\n",
    "X2_list=[]\n",
    "X22_list=[]\n",
    "\n",
    "M1_list=[]\n",
    "M2_list=[]\n",
    "M3_list=[]\n",
    "M4_list=[]\n",
    "\n",
    "C1_list=[]\n",
    "C2_list=[]\n",
    "C0_list=[]\n",
    "C4_list=[]\n",
    "\n",
    "\n",
    "for i in range(len(file)):\n",
    "    temp1=np.load(str(file[i])+'uw+.npy')    \n",
    "    temp2=np.load(str(file[i])+'uw-.npy')    \n",
    "    temp3=np.load(str(file[i])+'uwd.npy')    \n",
    "    temp4=np.load(str(file[i])+'uw_weited.npy')    \n",
    "    \n",
    "    c1_mean=sum(temp1)/len(temp1) #mean of M+\n",
    "    c2_mean=sum(temp2)/len(temp2) #mean of M-\n",
    "    c0_mean=sum(temp3)/len(temp3) #mean of D0\n",
    "\n",
    "    c1_temp=c(Inp1[i],c1_mean) #conversion coefficient for M+\n",
    "    c2_temp=c(Inp2[i],c2_mean) #conversion coefficient for M-\n",
    "    c0_temp=c(InpD0[i],c0_mean) #conversion coefficient for D0\n",
    "\n",
    "    C1_list.append(c1_temp)\n",
    "    C2_list.append(c2_temp)\n",
    "    C0_list.append(c0_temp)\n",
    "\n",
    "    \n",
    "    temp10= np.array(temp1)*c1_temp #converte M+ in photon number unite\n",
    "    temp20= np.array(temp2)*c2_temp #converte M- in photon number unite\n",
    "    temp30= np.array(temp3)*c0_temp #converte D0 in photon number unite\n",
    "    \n",
    "    mean1=sum(temp10)/len(temp10) #mean photon number of M+\n",
    "    mean2=sum(temp20)/len(temp20) #mean photon number of M-\n",
    "    mean3=sum(temp30)/len(temp30) #mean photon number of D0\n",
    "    \n",
    "    M1_list.append(mean1)\n",
    "    M2_list.append(mean2)\n",
    "    M3_list.append(mean3)\n",
    "\n",
    "    \n",
    "    c_rf=sqrt((mean1+mean2)/(np.var(temp4)-np.var(temp4_base))) #conversion coefficient for RF\n",
    "    temp40=temp4*c_rf\n",
    "    \n",
    "    C4_list.append(c_rf)\n",
    "\n",
    "    \n",
    "    mean4=sum(temp40)/len(temp40) #mean photon number of RF\n",
    "\n",
    "    M4_list.append(mean4)\n",
    "    \n",
    "    temp40=temp40-mean4 # RF data is regularized by subtracting mean photon number \n",
    "\n",
    "    \n",
    "    D=0\n",
    "    X=0\n",
    "    X2=0\n",
    "    X22=0\n",
    "    \n",
    "    for k in range(len(temp10)):\n",
    "        D+=dhom(temp30[k],temp10[k],temp20[k],temp40[k])/len(temp10)\n",
    "        X+=xphi(temp30[k],temp10[k],temp20[k],temp40[k])/len(temp10)\n",
    "        X2+=xphi(temp30[k],temp10[k],temp20[k],temp40[k])**2/len(temp10)\n",
    "        X22+=abs(0.25-xphi(temp30[k],temp10[k],temp20[k],temp40[k])**2)/len(temp10)\n",
    "        \n",
    "    D_list.append(D)\n",
    "    X_list.append(X)\n",
    "    X2_list.append(X2)\n",
    "    X22_list.append(X22)\n",
    "    print(i)"
   ]
  },
  {
   "cell_type": "code",
   "execution_count": null,
   "metadata": {},
   "outputs": [],
   "source": []
  }
 ],
 "metadata": {
  "kernelspec": {
   "display_name": "Python 3 (ipykernel)",
   "language": "python",
   "name": "python3"
  },
  "language_info": {
   "codemirror_mode": {
    "name": "ipython",
    "version": 3
   },
   "file_extension": ".py",
   "mimetype": "text/x-python",
   "name": "python",
   "nbconvert_exporter": "python",
   "pygments_lexer": "ipython3",
   "version": "3.9.7"
  }
 },
 "nbformat": 4,
 "nbformat_minor": 2
}
